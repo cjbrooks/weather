{
 "cells": [
  {
   "cell_type": "code",
   "execution_count": 5,
   "metadata": {
    "collapsed": false
   },
   "outputs": [
    {
     "name": "stdout",
     "output_type": "stream",
     "text": [
      "http://api.openweathermap.org/data/2.5/weather?id=5378538&mode=json&units=imperial&APPID=306e98f72c67de6deffd7ac8f6151565\n"
     ]
    },
    {
     "ename": "KeyError",
     "evalue": "'list'",
     "output_type": "error",
     "traceback": [
      "\u001b[1;31m---------------------------------------------------------------------------\u001b[0m",
      "\u001b[1;31mKeyError\u001b[0m                                  Traceback (most recent call last)",
      "\u001b[1;32m<ipython-input-5-71180ffa7cf2>\u001b[0m in \u001b[0;36m<module>\u001b[1;34m()\u001b[0m\n\u001b[0;32m     26\u001b[0m     \u001b[0mdata\u001b[0m \u001b[1;33m=\u001b[0m \u001b[0mjson\u001b[0m\u001b[1;33m.\u001b[0m\u001b[0mloads\u001b[0m\u001b[1;33m(\u001b[0m\u001b[0mweather\u001b[0m\u001b[1;33m)\u001b[0m\u001b[1;33m\u001b[0m\u001b[0m\n\u001b[0;32m     27\u001b[0m     \u001b[1;31m#print data\u001b[0m\u001b[1;33m\u001b[0m\u001b[1;33m\u001b[0m\u001b[0m\n\u001b[1;32m---> 28\u001b[1;33m     \u001b[0mclean_city\u001b[0m \u001b[1;33m=\u001b[0m \u001b[0mdata\u001b[0m\u001b[1;33m[\u001b[0m\u001b[1;34m\"list\"\u001b[0m\u001b[1;33m]\u001b[0m\u001b[1;33m[\u001b[0m\u001b[1;36m0\u001b[0m\u001b[1;33m]\u001b[0m\u001b[1;33m[\u001b[0m\u001b[1;34m\"name\"\u001b[0m\u001b[1;33m]\u001b[0m\u001b[1;33m\u001b[0m\u001b[0m\n\u001b[0m\u001b[0;32m     29\u001b[0m     \u001b[0mstr\u001b[0m\u001b[1;33m(\u001b[0m\u001b[0mclean_city\u001b[0m\u001b[1;33m)\u001b[0m\u001b[1;33m\u001b[0m\u001b[0m\n\u001b[0;32m     30\u001b[0m     \u001b[1;32mprint\u001b[0m \u001b[0mclean_city\u001b[0m\u001b[1;33m\u001b[0m\u001b[0m\n",
      "\u001b[1;31mKeyError\u001b[0m: 'list'"
     ]
    }
   ],
   "source": [
    "from urllib2 import Request, urlopen, URLError\n",
    "\n",
    "from xml.dom import minidom\n",
    "\n",
    "import json\n",
    "\n",
    "from pprint import pprint\n",
    "\n",
    "city_list_old = (\"Cambridge,USA\", \"Berkeley\", \"Oakland\")\n",
    "\n",
    "city_list = (\"5378538\",\"5327684\",\"5380748\",\"5391959\")\n",
    "\n",
    "api_key = '306e98f72c67de6deffd7ac8f6151565'\n",
    "\n",
    "city_clean = []\n",
    "temps = []\n",
    "\n",
    "for city in city_list:\n",
    "    #print city\n",
    "    weather_api_call = \"http://api.openweathermap.org/data/2.5/weather?id=\"+city+\"&mode=json&units=imperial&APPID=\"+api_key\n",
    "    print weather_api_call\n",
    "\n",
    "    weather_call = urlopen(weather_api_call)\n",
    "    weather = weather_call.read()\n",
    "\n",
    "    data = json.loads(weather)\n",
    "    #print data\n",
    "    clean_city = data[\"list\"][0][\"name\"]\n",
    "    str(clean_city)\n",
    "    print clean_city\n",
    "    temp = data[\"list\"][0][\"main\"][\"temp\"]\n",
    "    print temp\n",
    "\n",
    "    city_clean.append(clean_city)\n",
    "    temps.append(temp)\n",
    "\n",
    "\n",
    "temps_dict = {}\n",
    "\n",
    "    \n",
    "cities_and_temps = zip(city_clean, temps)\n",
    " \n",
    "for city, temp in cities_and_temps:\n",
    "    temps_dict[city] = temp\n",
    "    \n",
    "for key, value in temps_dict.iteritems() :\n",
    "    happy = key + \":\", value\n",
    "\n",
    "    \n",
    "# username = \"pytxt@outlook.com\"\n",
    "# password = \"valentina4658210\"\n",
    "\n",
    "# vtext = \"3013951609@vzwpix.com\"\n",
    "# message = \"this is the message to be sent\"\n",
    "\n",
    "# msg = \"\"\"From: %s\n",
    "# To: %s\n",
    "# Subject: text-message\n",
    "# %s\"\"\" % (username, vtext, message)\n",
    "\n",
    "# server = smtplib.SMTP('smtp-mail.outlook.com',587)\n",
    "# server.starttls()\n",
    "# server.login(username,password)\n",
    "# server.sendmail(username, vtext, msg)\n",
    "# server.quit()\n"
   ]
  },
  {
   "cell_type": "code",
   "execution_count": 156,
   "metadata": {
    "collapsed": false
   },
   "outputs": [
    {
     "data": {
      "text/plain": [
       "(221,\n",
       " '2.0.0 BLU437-SMTP37.smtp.hotmail.com Service closing transmission channel')"
      ]
     },
     "execution_count": 156,
     "metadata": {},
     "output_type": "execute_result"
    }
   ],
   "source": [
    "#sending the above as a text message:\n",
    "\n",
    "# •Outlook.com SMTP server address: smtp-mail.outlook.com \n",
    "# •Outlook.com SMTP user name: Your full Outlook.com email address (not an alias)\n",
    "# •Outlook.com SMTP password: Your Outlook.com password \n",
    "\n",
    "\n",
    "# •Outlook.com SMTP port: 587 (you can use port 25 as an alternative)\n",
    "# •Outlook.com SMTP TLS/SSL encryption required: yes \n",
    "\n",
    "    \n",
    "import smtplib\n",
    "\n",
    "username = \"pytxt@outlook.com\"\n",
    "password = \"valentina4658210\"\n",
    "\n",
    "vtext = \"3013951609@vzwpix.com\"\n",
    "message = \"this is the message to be sent\"\n",
    "\n",
    "msg = \"\"\"From: %s\n",
    "To: %s\n",
    "Subject: text-message\n",
    "%s\"\"\" % (username, vtext, message)\n",
    "\n",
    "server = smtplib.SMTP('smtp-mail.outlook.com',587)\n",
    "server.starttls()\n",
    "server.login(username,password)\n",
    "server.sendmail(username, vtext, msg)\n",
    "server.quit()"
   ]
  },
  {
   "cell_type": "code",
   "execution_count": 157,
   "metadata": {
    "collapsed": false
   },
   "outputs": [
    {
     "ename": "IOError",
     "evalue": "[Errno 2] No such file or directory: 'items.xml'",
     "output_type": "error",
     "traceback": [
      "\u001b[1;31m---------------------------------------------------------------------------\u001b[0m",
      "\u001b[1;31mIOError\u001b[0m                                   Traceback (most recent call last)",
      "\u001b[1;32m<ipython-input-157-1d00825320cd>\u001b[0m in \u001b[0;36m<module>\u001b[1;34m()\u001b[0m\n\u001b[0;32m      1\u001b[0m \u001b[1;32mfrom\u001b[0m \u001b[0mxml\u001b[0m\u001b[1;33m.\u001b[0m\u001b[0mdom\u001b[0m \u001b[1;32mimport\u001b[0m \u001b[0mminidom\u001b[0m\u001b[1;33m\u001b[0m\u001b[0m\n\u001b[1;32m----> 2\u001b[1;33m \u001b[0mxmldoc\u001b[0m \u001b[1;33m=\u001b[0m \u001b[0mminidom\u001b[0m\u001b[1;33m.\u001b[0m\u001b[0mparse\u001b[0m\u001b[1;33m(\u001b[0m\u001b[1;34m'items.xml'\u001b[0m\u001b[1;33m)\u001b[0m\u001b[1;33m\u001b[0m\u001b[0m\n\u001b[0m\u001b[0;32m      3\u001b[0m \u001b[0mitemlist\u001b[0m \u001b[1;33m=\u001b[0m \u001b[0mxmldoc\u001b[0m\u001b[1;33m.\u001b[0m\u001b[0mgetElementsByTagName\u001b[0m\u001b[1;33m(\u001b[0m\u001b[1;34m'item'\u001b[0m\u001b[1;33m)\u001b[0m\u001b[1;33m\u001b[0m\u001b[0m\n\u001b[0;32m      4\u001b[0m \u001b[1;32mprint\u001b[0m\u001b[1;33m(\u001b[0m\u001b[0mlen\u001b[0m\u001b[1;33m(\u001b[0m\u001b[0mitemlist\u001b[0m\u001b[1;33m)\u001b[0m\u001b[1;33m)\u001b[0m\u001b[1;33m\u001b[0m\u001b[0m\n\u001b[0;32m      5\u001b[0m \u001b[1;32mprint\u001b[0m\u001b[1;33m(\u001b[0m\u001b[0mitemlist\u001b[0m\u001b[1;33m[\u001b[0m\u001b[1;36m0\u001b[0m\u001b[1;33m]\u001b[0m\u001b[1;33m.\u001b[0m\u001b[0mattributes\u001b[0m\u001b[1;33m[\u001b[0m\u001b[1;34m'name'\u001b[0m\u001b[1;33m]\u001b[0m\u001b[1;33m.\u001b[0m\u001b[0mvalue\u001b[0m\u001b[1;33m)\u001b[0m\u001b[1;33m\u001b[0m\u001b[0m\n",
      "\u001b[1;32mC:\\Python27\\lib\\xml\\dom\\minidom.pyc\u001b[0m in \u001b[0;36mparse\u001b[1;34m(file, parser, bufsize)\u001b[0m\n\u001b[0;32m   1916\u001b[0m     \u001b[1;32mif\u001b[0m \u001b[0mparser\u001b[0m \u001b[1;32mis\u001b[0m \u001b[0mNone\u001b[0m \u001b[1;32mand\u001b[0m \u001b[1;32mnot\u001b[0m \u001b[0mbufsize\u001b[0m\u001b[1;33m:\u001b[0m\u001b[1;33m\u001b[0m\u001b[0m\n\u001b[0;32m   1917\u001b[0m         \u001b[1;32mfrom\u001b[0m \u001b[0mxml\u001b[0m\u001b[1;33m.\u001b[0m\u001b[0mdom\u001b[0m \u001b[1;32mimport\u001b[0m \u001b[0mexpatbuilder\u001b[0m\u001b[1;33m\u001b[0m\u001b[0m\n\u001b[1;32m-> 1918\u001b[1;33m         \u001b[1;32mreturn\u001b[0m \u001b[0mexpatbuilder\u001b[0m\u001b[1;33m.\u001b[0m\u001b[0mparse\u001b[0m\u001b[1;33m(\u001b[0m\u001b[0mfile\u001b[0m\u001b[1;33m)\u001b[0m\u001b[1;33m\u001b[0m\u001b[0m\n\u001b[0m\u001b[0;32m   1919\u001b[0m     \u001b[1;32melse\u001b[0m\u001b[1;33m:\u001b[0m\u001b[1;33m\u001b[0m\u001b[0m\n\u001b[0;32m   1920\u001b[0m         \u001b[1;32mfrom\u001b[0m \u001b[0mxml\u001b[0m\u001b[1;33m.\u001b[0m\u001b[0mdom\u001b[0m \u001b[1;32mimport\u001b[0m \u001b[0mpulldom\u001b[0m\u001b[1;33m\u001b[0m\u001b[0m\n",
      "\u001b[1;32mC:\\Python27\\lib\\xml\\dom\\expatbuilder.pyc\u001b[0m in \u001b[0;36mparse\u001b[1;34m(file, namespaces)\u001b[0m\n\u001b[0;32m    920\u001b[0m \u001b[1;33m\u001b[0m\u001b[0m\n\u001b[0;32m    921\u001b[0m     \u001b[1;32mif\u001b[0m \u001b[0misinstance\u001b[0m\u001b[1;33m(\u001b[0m\u001b[0mfile\u001b[0m\u001b[1;33m,\u001b[0m \u001b[0mStringTypes\u001b[0m\u001b[1;33m)\u001b[0m\u001b[1;33m:\u001b[0m\u001b[1;33m\u001b[0m\u001b[0m\n\u001b[1;32m--> 922\u001b[1;33m         \u001b[0mfp\u001b[0m \u001b[1;33m=\u001b[0m \u001b[0mopen\u001b[0m\u001b[1;33m(\u001b[0m\u001b[0mfile\u001b[0m\u001b[1;33m,\u001b[0m \u001b[1;34m'rb'\u001b[0m\u001b[1;33m)\u001b[0m\u001b[1;33m\u001b[0m\u001b[0m\n\u001b[0m\u001b[0;32m    923\u001b[0m         \u001b[1;32mtry\u001b[0m\u001b[1;33m:\u001b[0m\u001b[1;33m\u001b[0m\u001b[0m\n\u001b[0;32m    924\u001b[0m             \u001b[0mresult\u001b[0m \u001b[1;33m=\u001b[0m \u001b[0mbuilder\u001b[0m\u001b[1;33m.\u001b[0m\u001b[0mparseFile\u001b[0m\u001b[1;33m(\u001b[0m\u001b[0mfp\u001b[0m\u001b[1;33m)\u001b[0m\u001b[1;33m\u001b[0m\u001b[0m\n",
      "\u001b[1;31mIOError\u001b[0m: [Errno 2] No such file or directory: 'items.xml'"
     ]
    }
   ],
   "source": [
    "from xml.dom import minidom\n",
    "xmldoc = minidom.parse('items.xml')\n",
    "itemlist = xmldoc.getElementsByTagName('item')\n",
    "print(len(itemlist))\n",
    "print(itemlist[0].attributes['name'].value)\n",
    "for s in itemlist:\n",
    "    print(s.attributes['name'].value)\n",
    "    \n",
    "    \n",
    "\n",
    "    try:\n",
    "        response = urlopen(weather_api_call)\n",
    "        weather = response.read()\n",
    "        print weather[387:392]\n",
    "    except URLError, e:\n",
    "        print 'No weather. Got an error code:', e"
   ]
  },
  {
   "cell_type": "markdown",
   "metadata": {},
   "source": [
    "# Parsing a json file to get the temp value from a weather api"
   ]
  },
  {
   "cell_type": "code",
   "execution_count": 90,
   "metadata": {
    "collapsed": false
   },
   "outputs": [
    {
     "name": "stdout",
     "output_type": "stream",
     "text": [
      "{u'cod': u'200',\n",
      " u'count': 1,\n",
      " u'list': [{u'clouds': {u'all': 1},\n",
      "            u'coord': {u'lat': 42.3668, u'lon': -71.106},\n",
      "            u'dt': 1426785593,\n",
      "            u'id': 6254926,\n",
      "            u'main': {u'humidity': 28,\n",
      "                      u'pressure': 1023,\n",
      "                      u'temp': 29.25,\n",
      "                      u'temp_max': 33.08,\n",
      "                      u'temp_min': 26.01},\n",
      "            u'name': u'Cambridge',\n",
      "            u'sys': {u'country': u'United States of America'},\n",
      "            u'weather': [{u'description': u'Sky is Clear',\n",
      "                          u'icon': u'01d',\n",
      "                          u'id': 800,\n",
      "                          u'main': u'Clear'}],\n",
      "            u'wind': {u'deg': 300, u'gust': 14.4, u'speed': 20.09}}],\n",
      " u'message': u'accurate'}\n",
      "29.25\n",
      "29.25\n"
     ]
    }
   ],
   "source": [
    "import json\n",
    "\n",
    "from pprint import pprint\n",
    "\n",
    "\n",
    "with open('find.json') as data_file:\n",
    "    data = json.load(data_file)\n",
    "    \n",
    "pprint(data)\n",
    "    \n",
    "pprint(data[\"list\"][0][\"main\"][\"temp\"])\n",
    "\n",
    "temp = data[\"list\"][0][\"main\"][\"temp\"]\n",
    "\n",
    "print temp"
   ]
  },
  {
   "cell_type": "code",
   "execution_count": 92,
   "metadata": {
    "collapsed": false
   },
   "outputs": [
    {
     "name": "stdout",
     "output_type": "stream",
     "text": [
      "68.95\n",
      "68.95\n"
     ]
    }
   ],
   "source": [
    "import json\n",
    "\n",
    "from pprint import pprint\n",
    "\n",
    "weather_api_call = \"http://api.openweathermap.org/data/2.5/find?q=Oakland&mode=json&units=imperial\"\n",
    "\n",
    "weather_call = urlopen(weather_api_call)\n",
    "weather = weather_call.read()\n",
    "\n",
    "data = json.loads(weather)\n",
    "    \n",
    "pprint(data[\"list\"][0][\"main\"][\"temp\"])\n",
    "\n",
    "temp = data[\"list\"][0][\"main\"][\"temp\"]\n",
    "\n",
    "print temp\n"
   ]
  },
  {
   "cell_type": "code",
   "execution_count": null,
   "metadata": {
    "collapsed": false
   },
   "outputs": [],
   "source": [
    "    response = urlopen(weather_api_call)\n",
    "    xmldoc = minidom.parse(response)\n",
    "    itemlist = xmldoc.getElementsByTagName('item')\n",
    "    print(itemlist)\n",
    "    print (itemlist.attribute['temperature unit'])\n",
    "    #for s in itemlist:\n",
    "    #    print (s.attributes['temperature unit'].value)\n",
    "    "
   ]
  }
 ],
 "metadata": {
  "kernelspec": {
   "display_name": "Python 2",
   "language": "python",
   "name": "python2"
  },
  "language_info": {
   "codemirror_mode": {
    "name": "ipython",
    "version": 2
   },
   "file_extension": ".py",
   "mimetype": "text/x-python",
   "name": "python",
   "nbconvert_exporter": "python",
   "pygments_lexer": "ipython2",
   "version": "2.7.8"
  }
 },
 "nbformat": 4,
 "nbformat_minor": 0
}
